{
 "cells": [
  {
   "cell_type": "markdown",
   "metadata": {},
   "source": [
    "## 1. Required Library"
   ]
  },
  {
   "cell_type": "code",
   "execution_count": 1,
   "metadata": {},
   "outputs": [],
   "source": [
    "import cv2\n",
    "import os\n",
    "import uuid\n",
    "import time"
   ]
  },
  {
   "cell_type": "markdown",
   "metadata": {},
   "source": [
    "## 2. Folder Setup"
   ]
  },
  {
   "cell_type": "code",
   "execution_count": 2,
   "metadata": {},
   "outputs": [],
   "source": [
    "IMAGE_PATH = os.path.join('Tensorflow','workspace','images','allimages')"
   ]
  },
  {
   "cell_type": "code",
   "execution_count": 3,
   "metadata": {},
   "outputs": [],
   "source": [
    "labels = ['noMask','Mask']"
   ]
  },
  {
   "cell_type": "code",
   "execution_count": 4,
   "metadata": {},
   "outputs": [],
   "source": [
    "if not os.path.exists(IMAGE_PATH):\n",
    "    !mkdir {IMAGE_PATH}"
   ]
  },
  {
   "cell_type": "code",
   "execution_count": 5,
   "metadata": {},
   "outputs": [
    {
     "name": "stderr",
     "output_type": "stream",
     "text": [
      "A subdirectory or file Tensorflow\\workspace\\images\\allimages\\noMask already exists.\n",
      "A subdirectory or file Tensorflow\\workspace\\images\\allimages\\Mask already exists.\n"
     ]
    }
   ],
   "source": [
    "for label in labels:\n",
    "    path = os.path.join(IMAGE_PATH,label)\n",
    "    !mkdir {path}"
   ]
  },
  {
   "cell_type": "markdown",
   "metadata": {},
   "source": [
    "## 3. Capture Images"
   ]
  },
  {
   "cell_type": "code",
   "execution_count": 15,
   "metadata": {},
   "outputs": [
    {
     "name": "stdout",
     "output_type": "stream",
     "text": [
      "Collection images for label : noMask\n",
      "now waiting for next label:..............\n",
      "image number: 0\n",
      "image number: 1\n",
      "image number: 2\n",
      "image number: 3\n",
      "image number: 4\n",
      "image number: 5\n",
      "image number: 6\n",
      "image number: 7\n",
      "image number: 8\n",
      "image number: 9\n",
      "Collection images for label : Mask\n",
      "now waiting for next label:..............\n",
      "image number: 0\n",
      "image number: 1\n",
      "image number: 2\n",
      "image number: 3\n",
      "image number: 4\n",
      "image number: 5\n",
      "image number: 6\n",
      "image number: 7\n",
      "image number: 8\n",
      "image number: 9\n"
     ]
    }
   ],
   "source": [
    "cap = cv2.VideoCapture(0)\n",
    "for label in labels:\n",
    "    print(\"Collection images for label :\",label)\n",
    "    print(\"now waiting for next label:..............\")\n",
    "    time.sleep(10)\n",
    "    for i in range(10):\n",
    "        print('image number:',i)\n",
    "        ret,frame = cap.read()\n",
    "        cv2.imshow('captured',frame)\n",
    "        path = os.path.join(IMAGE_PATH,label,str(uuid.uuid1())+'.jpg')\n",
    "#         print(path)\n",
    "        cv2.imwrite(path,frame)\n",
    "        time.sleep(2)\n",
    "        if cv2.waitKey(1) & 0xFF == ord('q'):\n",
    "            break\n",
    "        \n",
    "cap.release()\n",
    "cv2.destroyAllWindows()"
   ]
  },
  {
   "cell_type": "code",
   "execution_count": null,
   "metadata": {},
   "outputs": [],
   "source": []
  }
 ],
 "metadata": {
  "kernelspec": {
   "display_name": "Python 3",
   "language": "python",
   "name": "python3"
  },
  "language_info": {
   "codemirror_mode": {
    "name": "ipython",
    "version": 3
   },
   "file_extension": ".py",
   "mimetype": "text/x-python",
   "name": "python",
   "nbconvert_exporter": "python",
   "pygments_lexer": "ipython3",
   "version": "3.7.4"
  }
 },
 "nbformat": 4,
 "nbformat_minor": 2
}
